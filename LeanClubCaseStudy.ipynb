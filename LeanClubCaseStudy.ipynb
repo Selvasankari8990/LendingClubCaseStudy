{
 "cells": [
  {
   "cell_type": "code",
   "execution_count": null,
   "id": "9a4bd029-7f26-4136-9d89-9b53e8c4efe2",
   "metadata": {},
   "outputs": [],
   "source": [
    "#Importing Libraries\n",
    "import warnings\n",
    "import numpy as np\n",
    "import pandas as pd\n",
    "import matplotlib.pyplot as plt\n",
    "import seaborn as sns\n",
    "from IPython.core.display import HTML\n",
    "\n",
    "warnings.filterwarnings('ignore') # if there are any warning due to version mismatch, it will be ignored\n",
    "#Reading Csv File\n",
    "loan= pd.read_csv('loan.csv')\n",
    "loan.head(5)\n"
   ]
  },
  {
   "cell_type": "code",
   "execution_count": null,
   "id": "e1767d64-0015-4c70-bd3f-c0c0835aa232",
   "metadata": {},
   "outputs": [],
   "source": []
  },
  {
   "cell_type": "code",
   "execution_count": null,
   "id": "8f1002b5-242c-4c56-8e62-d394fe2ceb8f",
   "metadata": {},
   "outputs": [],
   "source": [
    "loan.info()"
   ]
  },
  {
   "cell_type": "code",
   "execution_count": null,
   "id": "2f36fc40-b209-49f9-91e0-1b8a7a9fbc36",
   "metadata": {},
   "outputs": [],
   "source": [
    "loan.shape\n"
   ]
  },
  {
   "cell_type": "code",
   "execution_count": null,
   "id": "b5807d32-ddb3-4c06-b1a3-2c29d7b7e49b",
   "metadata": {},
   "outputs": [],
   "source": [
    "#Data Cleaning\n",
    "nullcolumns = loan.isnull().sum()\n",
    "#print(nullcolumns)\n",
    "filterhighnullvalues=nullcolumns.loc[(nullcolumns.values>30000)]\n",
    "filterhighnullvalues.head\n",
    "#Observations : Below columns are having null values "
   ]
  },
  {
   "cell_type": "code",
   "execution_count": null,
   "id": "0f3698c4-e7e7-4a4a-b36d-87bcc9268485",
   "metadata": {},
   "outputs": [],
   "source": [
    "#Columns having more null values are not required for analysis. Droping those column\n",
    "loan.drop(columns=list(filterhighnullvalues.index), inplace=True)\n",
    "loan.shape"
   ]
  },
  {
   "cell_type": "code",
   "execution_count": null,
   "id": "3965020d-a9dc-47bc-ae34-c8a3c29d5393",
   "metadata": {},
   "outputs": [],
   "source": [
    "#Finding the unique values\n",
    "Uniquecol=loan.nunique()\n",
    "singlevaluecolumn=Uniquecol.loc[Uniquecol.values==1]\n",
    "#No unique values means we can drop them as they are not useful for analysis\n",
    "loan.drop(columns=list(singlevaluecolumn.index),inplace=True)\n",
    "loan.shape"
   ]
  },
  {
   "cell_type": "code",
   "execution_count": null,
   "id": "48b79c84-a3c1-4451-927f-80193a241bca",
   "metadata": {},
   "outputs": [],
   "source": [
    "loan.info()"
   ]
  },
  {
   "cell_type": "code",
   "execution_count": null,
   "id": "b8bbf914-cbe3-4990-9c6c-b89ff6b05678",
   "metadata": {},
   "outputs": [],
   "source": [
    "#Removing unwanted columns for analysis\n",
    "del_cols = [\"id\",\"member_id\",\"url\",\"zip_code\",\"out_prncp\",\"out_prncp_inv\",\"total_pymnt\",\"total_pymnt_inv\",\n",
    "            \"total_rec_prncp\",\"total_rec_int\",\"total_rec_late_fee\",\"recoveries\",\"collection_recovery_fee\",\n",
    "            \"last_pymnt_d\",\"last_pymnt_amnt\",\"last_credit_pull_d\"]\n",
    "loan.drop(columns=del_cols, inplace=True)\n",
    "loan.shape"
   ]
  },
  {
   "cell_type": "code",
   "execution_count": null,
   "id": "cf794f91-4825-4b47-a988-01641762b300",
   "metadata": {},
   "outputs": [],
   "source": [
    "loan.info()"
   ]
  },
  {
   "cell_type": "code",
   "execution_count": null,
   "id": "4baa9f78-e706-4a35-9469-de99d0553b62",
   "metadata": {},
   "outputs": [],
   "source": [
    "loan['loan_status'].value_counts()\n"
   ]
  },
  {
   "cell_type": "code",
   "execution_count": null,
   "id": "0fc85cf2-65e2-4178-b54a-8a54fcc626eb",
   "metadata": {},
   "outputs": [],
   "source": [
    "#current loan status is not taken into consideration for the analysis\n",
    "loan=loan[~(loan['loan_status'] == 'Current')]\n",
    "loan.shape"
   ]
  },
  {
   "cell_type": "code",
   "execution_count": null,
   "id": "08656767-0f81-4218-91d6-8b3c57374d70",
   "metadata": {},
   "outputs": [],
   "source": [
    "loan['loan_status'].value_counts()\n"
   ]
  },
  {
   "cell_type": "code",
   "execution_count": null,
   "id": "1f6985b8-a7eb-4096-b96d-df2066248cb7",
   "metadata": {},
   "outputs": [],
   "source": [
    "#Looking into term and interest rate for analysis\n",
    "loan['term'].value_counts()\n"
   ]
  },
  {
   "cell_type": "code",
   "execution_count": null,
   "id": "45fa1244-7b30-4486-9a24-3e4ecff5acc2",
   "metadata": {},
   "outputs": [],
   "source": [
    "loan['int_rate'].head()\n"
   ]
  },
  {
   "cell_type": "code",
   "execution_count": null,
   "id": "11a93179-1df2-4ac4-9dad-bb79a2655acf",
   "metadata": {},
   "outputs": [],
   "source": [
    "#Removing percent symbol from the interest for calculation\n",
    "loan['int_rate'] = loan['int_rate'].apply(lambda x: pd.to_numeric(x.split(\"%\")[0]))\n",
    "loan['int_rate'].describe()"
   ]
  },
  {
   "cell_type": "code",
   "execution_count": null,
   "id": "8b7d4bcb-8fce-4b0e-b9c0-c86c672ec9e5",
   "metadata": {},
   "outputs": [],
   "source": [
    "loan.info()"
   ]
  },
  {
   "cell_type": "code",
   "execution_count": null,
   "id": "ab7fa1fd-518c-438a-917f-0f06948af149",
   "metadata": {},
   "outputs": [],
   "source": [
    "loan.annual_inc.value_counts().sort_index(ascending=False)"
   ]
  },
  {
   "cell_type": "code",
   "execution_count": null,
   "id": "be82c3d6-e810-486c-b6d3-946ae6e0f182",
   "metadata": {},
   "outputs": [],
   "source": [
    "loan['sub_grade'].value_counts()"
   ]
  },
  {
   "cell_type": "code",
   "execution_count": null,
   "id": "cec6d27f-026d-49d0-94dc-095f1eab1f24",
   "metadata": {},
   "outputs": [],
   "source": [
    "print(loan['emp_title'].value_counts().head())\n",
    "loan['emp_length'].value_counts().head()\n",
    "loan['home_ownership'].value_counts()\n",
    "loan['verification_status'].value_counts()\n",
    "loan['purpose'].value_counts()\n"
   ]
  },
  {
   "cell_type": "code",
   "execution_count": null,
   "id": "37262085-e7cc-4023-9936-2189646c5e00",
   "metadata": {},
   "outputs": [],
   "source": [
    "loan['title'].nunique()\n",
    "loan['title'].sample(10)"
   ]
  },
  {
   "cell_type": "code",
   "execution_count": null,
   "id": "839d4296-f42e-47e9-8af1-86e34331d1fa",
   "metadata": {},
   "outputs": [],
   "source": [
    "#Title has too many unique  values which is not required for analysis\n",
    "#loan.drop(columns=['title'], inplace=True)\n",
    "loan.shape"
   ]
  },
  {
   "cell_type": "code",
   "execution_count": null,
   "id": "0a522963-d157-48db-83cf-1512075a49b2",
   "metadata": {},
   "outputs": [],
   "source": [
    "loan['earliest_cr_line'].nunique()"
   ]
  },
  {
   "cell_type": "code",
   "execution_count": null,
   "id": "67fec7f9-eba3-4889-a668-d8892fc05f09",
   "metadata": {},
   "outputs": [],
   "source": [
    "from datetime import datetime\n",
    "today = datetime.today()\n",
    "today.year\n",
    "def days_from_earliest_cr_line (d):\n",
    "    m, y = d.split('-')\n",
    "    if y in ['Jan','Feb','Mar','Apr','May','Jun','Jul','Aug','Sep','Oct','Nov','Dec']:\n",
    "        y, m = d.split('-')\n",
    "    y = 2000 + int(y)\n",
    "    if y > today.year:\n",
    "        y -= 100\n",
    "    earliest_cr_line = datetime.strptime(str(y)+'-'+m+'-1', '%Y-%b-%d')\n",
    "    return (today - earliest_cr_line).days\n",
    "days_from_earliest_cr_line(\"Dec-20\")"
   ]
  },
  {
   "cell_type": "code",
   "execution_count": null,
   "id": "b0ae4761-1532-4647-b417-2d9c4bd33e0c",
   "metadata": {},
   "outputs": [],
   "source": [
    "loan['days_from_earliest_cr_line'] = loan['earliest_cr_line'].apply(days_from_earliest_cr_line)\n",
    "loan['days_from_earliest_cr_line'].describe()\n"
   ]
  },
  {
   "cell_type": "code",
   "execution_count": 1515,
   "id": "db7dd740-2f1f-45f9-b71f-bac634a3489e",
   "metadata": {},
   "outputs": [],
   "source": [
    "#earliest_cr_line -The month the borrower's earliest reported credit line was opened which is not required for analysis\n",
    "#so drop this column"
   ]
  },
  {
   "cell_type": "code",
   "execution_count": 1516,
   "id": "fc920d8b-dedd-4db3-b242-44e81313aba1",
   "metadata": {},
   "outputs": [],
   "source": [
    "loan.drop(columns=['earliest_cr_line'],inplace=True)\n",
    "loan.drop(columns=['title'], inplace=True)\n"
   ]
  },
  {
   "cell_type": "code",
   "execution_count": null,
   "id": "a060e2e9-bea7-4fb4-b1c5-2428e3f0b8de",
   "metadata": {},
   "outputs": [],
   "source": [
    "loan.columns"
   ]
  },
  {
   "cell_type": "code",
   "execution_count": null,
   "id": "749059de-72be-4004-94f4-0b056aa6fef3",
   "metadata": {},
   "outputs": [],
   "source": [
    "loan.drop(columns=['days_from_earliest_cr_line'],inplace=True)\n",
    "loan.columns"
   ]
  },
  {
   "cell_type": "code",
   "execution_count": 1519,
   "id": "7ddfb506-6100-4aef-993e-b68dab737849",
   "metadata": {},
   "outputs": [],
   "source": [
    "#Data Conversion"
   ]
  },
  {
   "cell_type": "code",
   "execution_count": null,
   "id": "87681670-8a38-4141-b371-fe7c44ede477",
   "metadata": {},
   "outputs": [],
   "source": [
    "loan.info()"
   ]
  },
  {
   "cell_type": "code",
   "execution_count": null,
   "id": "a5b5de48-f193-4be8-8e7b-7055870858db",
   "metadata": {},
   "outputs": [],
   "source": [
    "#converting analysis int values to float\n",
    "loan = loan.astype({\n",
    "    'dti': 'float',\n",
    "    'funded_amnt' : 'float',\n",
    "    'funded_amnt_inv' : 'float',\n",
    "    'loan_amnt' : 'float'\n",
    "})\n",
    "loan.info()"
   ]
  },
  {
   "cell_type": "code",
   "execution_count": null,
   "id": "c844b154-bd01-40fc-a671-ec0dec0ef733",
   "metadata": {},
   "outputs": [],
   "source": [
    "#Checking the data in the term column \n",
    "loan['term'] \n",
    "\n",
    "#converting term into int\n",
    "loan['term']=loan['term'].apply(lambda x:int(x.replace('months','').strip()))\n",
    "loan['term']"
   ]
  },
  {
   "cell_type": "code",
   "execution_count": null,
   "id": "bdaaaa6e-016c-4da4-b3db-2006dd34baaf",
   "metadata": {},
   "outputs": [],
   "source": [
    "# Rounding of the values of below columns to two decimal places\n",
    "for col in ['loan_amnt', 'funded_amnt', 'funded_amnt_inv', 'int_rate', 'dti']:\n",
    "    loan[col] = loan[col].apply(lambda x: round(x, 2))\n",
    "loan"
   ]
  },
  {
   "cell_type": "code",
   "execution_count": 1524,
   "id": "84609cd4-1d31-401b-867e-5dde9d6664e0",
   "metadata": {},
   "outputs": [],
   "source": [
    "#Common Graph functions\n",
    "#--Function Desc--\n",
    "#Generate Box plot based on the column names in the dataframe.\n",
    "'''  Parameters:\n",
    "        df (pd.DataFrame): The DataFrame containing the data.\n",
    "        column_name (str): The name of the column to be plotted.\n",
    "        title (str, optional): The title of the plot. Default is None.\n",
    "        orient (str): The orientation of the plot. Default is horizontal. Possible values - h, v.'''\n",
    "def Generate_boxplot(df: pd.DataFrame, column_name: str, title: str = None, horizontal: bool = True) -> None:\n",
    "        if column_name not in df.columns:\n",
    "            print(f\"Error: Column '{column_name}' not found in the DataFrame.\")\n",
    "            return\n",
    "        plt.figure(figsize=(8, 6))\n",
    "        if horizontal:\n",
    "            sns.boxplot(y=df[column_name], orient='h', palette='Set2')\n",
    "        else:\n",
    "            sns.boxplot(x=df[column_name], orient='v', palette='Set2')\n",
    "        if title:\n",
    "            plt.title(title)\n",
    "        plt.xlabel(column_name, fontsize=12)\n",
    "        plt.ylabel('Values', fontsize=12)\n",
    "        plt.show()\n",
    "   \n"
   ]
  },
  {
   "cell_type": "code",
   "execution_count": null,
   "id": "39f16ad4-0226-487c-88b2-f1a2c1ae2fc9",
   "metadata": {},
   "outputs": [],
   "source": []
  },
  {
   "cell_type": "code",
   "execution_count": 1525,
   "id": "b9cfc631-107b-4f97-8198-82be3cffa3be",
   "metadata": {},
   "outputs": [],
   "source": [
    "def calculate_boxplot_stats(df: pd.DataFrame, column: str, iqr_multiplier: float = 1.5) -> dict:\n",
    "    \"\"\"\n",
    "    Calculate the Interquartile Range (IQR) and the lower and upper bounds for outlier detection.\n",
    "\n",
    "    Parameters:\n",
    "        df (pd.DataFrame): The DataFrame containing the data.\n",
    "        column (str): The name of the column for which to calculate the IQR and bounds.\n",
    "        iqr_multiplier (float, optional): Multiplier for the IQR to determine bounds. Default is 1.5.\n",
    "\n",
    "    Returns:\n",
    "        dict: A dictionary containing the following values:\n",
    "            - 'quartile1': The first quartile (25th percentile).\n",
    "            - 'quartile3': The third quartile (75th percentile).\n",
    "            - 'iqr': The Interquartile Range (IQR).\n",
    "            - 'lower_bound': The lower bound for outlier detection.\n",
    "            - 'upper_bound': The upper bound for outlier detection.\n",
    "    \"\"\"\n",
    "    quartile1 = df[column].quantile(0.25)\n",
    "    quartile3 = df[column].quantile(0.75)\n",
    "    iqr = quartile3 - quartile1\n",
    "    lower_bound = quartile1 - iqr_multiplier * iqr\n",
    "    upper_bound = quartile3 + iqr_multiplier * iqr\n",
    "    return {\n",
    "        'iqr': iqr,\n",
    "        'quartile1': quartile1,\n",
    "        'quartile3': quartile3,\n",
    "        'lower_bound': lower_bound,\n",
    "        'upper_bound': upper_bound\n",
    "    }\n"
   ]
  },
  {
   "cell_type": "code",
   "execution_count": null,
   "id": "2377a92b-1ad0-45d7-80fa-34e650f64f81",
   "metadata": {},
   "outputs": [],
   "source": [
    "# Calculate the lower bound and upper bound\n",
    "is_annual_inc_lb = calculate_boxplot_stats(loan, 'annual_inc')['lower_bound']\n",
    "is_annual_inc_ub = calculate_boxplot_stats(loan, 'annual_inc')['upper_bound']\n",
    "is_annual_inc_lt = loan.annual_inc > is_annual_inc_lb\n",
    "is_annual_inc_gt = loan.annual_inc < is_annual_inc_ub\n",
    "\n",
    "req_income = is_annual_inc_lt & is_annual_inc_gt\n",
    "\n",
    "# Filter the rows with required annual income range between lower and upper bound\n",
    "loan_reqincome = loan[req_income]\n",
    "\n",
    "# Show boxplot\n",
    "Generate_boxplot(loan_reqincome, 'annual_inc', title='Annual Income')"
   ]
  },
  {
   "cell_type": "code",
   "execution_count": null,
   "id": "033a9ef9-817a-43ff-bfa9-5ce886ae7162",
   "metadata": {},
   "outputs": [],
   "source": [
    "for col in ['loan_amnt', 'funded_amnt', 'funded_amnt_inv', 'int_rate', 'installment', 'dti']:\n",
    "    Generate_boxplot(loan, col, horizontal=False)\n"
   ]
  },
  {
   "cell_type": "code",
   "execution_count": null,
   "id": "027a4203-6226-4123-b5fc-c639229ca7ca",
   "metadata": {},
   "outputs": [],
   "source": [
    "loan['emp_title'].nunique\n",
    "loan.drop(columns=['emp_title'],inplace=True)\n",
    "loan.info()"
   ]
  },
  {
   "cell_type": "code",
   "execution_count": null,
   "id": "4eae6e85-52f1-4d84-b30a-ac5a998caaf6",
   "metadata": {},
   "outputs": [],
   "source": [
    "#Analysing the grade and subgrade columns \n",
    "loan['grade'].value_counts()\n",
    "loan['sub_grade'].value_counts()"
   ]
  },
  {
   "cell_type": "code",
   "execution_count": null,
   "id": "295889d1-67d8-4753-8e0f-181da6a4b6a9",
   "metadata": {},
   "outputs": [],
   "source": [
    "#Checking revol_util column \n",
    "loan['revol_util'].head()\n"
   ]
  },
  {
   "cell_type": "code",
   "execution_count": 1531,
   "id": "7b6eabec-ad42-4915-85a0-7566542374b0",
   "metadata": {},
   "outputs": [],
   "source": [
    "#converting revol_util into  numerical values\n",
    "loan['revol_util'] = pd.Series(loan['revol_util']).str.replace('%', '').astype(float)\n",
    "\n"
   ]
  },
  {
   "cell_type": "code",
   "execution_count": null,
   "id": "90b3dd4a-a135-4597-8c34-6ed8befcacf4",
   "metadata": {},
   "outputs": [],
   "source": [
    "loan['revol_util']"
   ]
  },
  {
   "cell_type": "code",
   "execution_count": 1533,
   "id": "590a4f54-4c8e-43f3-b67b-cbce149a09cf",
   "metadata": {},
   "outputs": [],
   "source": [
    "loan['issue_d'] = pd.to_datetime(loan['issue_d'], format = '%b-%y')"
   ]
  },
  {
   "cell_type": "code",
   "execution_count": null,
   "id": "a42f1f05-3356-49ae-a538-441932307921",
   "metadata": {},
   "outputs": [],
   "source": [
    "loan.info()"
   ]
  },
  {
   "cell_type": "code",
   "execution_count": null,
   "id": "6b2ac1d7-81f2-4527-b235-3a8a19f99e6a",
   "metadata": {},
   "outputs": [],
   "source": [
    "loan['loan_status'].value_counts()"
   ]
  },
  {
   "cell_type": "code",
   "execution_count": null,
   "id": "7be50ff4-5c2c-4421-8da8-66979926121f",
   "metadata": {},
   "outputs": [],
   "source": [
    "loan_status_percent = loan['loan_status'].value_counts(normalize=True)\n",
    "loan_status_percent"
   ]
  },
  {
   "cell_type": "code",
   "execution_count": null,
   "id": "3f8bfa4e-f4ab-46a7-977f-90d221232d3f",
   "metadata": {},
   "outputs": [],
   "source": [
    "loan.head()"
   ]
  },
  {
   "cell_type": "code",
   "execution_count": null,
   "id": "9a46730c-4c59-44bf-bb51-2c0aa0c40b5c",
   "metadata": {},
   "outputs": [],
   "source": [
    "loan.isna().sum()"
   ]
  },
  {
   "cell_type": "code",
   "execution_count": null,
   "id": "78cdbfbd-d0ae-4318-b3c2-d31e3bf7a9e9",
   "metadata": {},
   "outputs": [],
   "source": [
    "#Univariate Analysis\n",
    "\n",
    "# changing the loan_status to a numeric variable, assign 1 for defaulted loans and 0 for paid off ones\n",
    "loan['loan_status_num'] = loan['loan_status'].apply(lambda x: 1 if x=='Charged Off' else 0)\n",
    "\n",
    "loan.dropna(axis = 1, how = 'all', inplace = True)\n",
    "loan.head()\n",
    "\n"
   ]
  },
  {
   "cell_type": "code",
   "execution_count": null,
   "id": "876a1c61-bba4-4a39-88f2-2c436d1302bb",
   "metadata": {},
   "outputs": [],
   "source": [
    "sns.set_style(\"whitegrid\")\n",
    "sns.clustermap(data=loan.corr(numeric_only=True),\n",
    "    figsize=(20, 10))\n",
    "plt.show()"
   ]
  },
  {
   "cell_type": "code",
   "execution_count": 1541,
   "id": "30ab1dbb-6f3e-4595-8962-960a2a835bd6",
   "metadata": {},
   "outputs": [],
   "source": [
    "#using the above diagram we can able to find the high correlation between Installment,funded_amnt,loan_amnt\n",
    "# and funded_amnt_inv. Next Coorelation between pub_rec & pub_rec_bankrupcies and number of accounts"
   ]
  },
  {
   "cell_type": "code",
   "execution_count": null,
   "id": "b80e4808-239f-4904-bd1b-c4e0ce56a86d",
   "metadata": {},
   "outputs": [],
   "source": [
    "# here are some of the global settings/constants that will be referred to within the functions defined below\n",
    "#colors = [\"#fca9a9\",\"#a9fea9\"]\n",
    "colors = [\"#a9fea9\",\"#fca9a9\"]\n",
    "sns.set(style='whitegrid', palette=sns.color_palette(colors))\n",
    "by = 'loan_status'\n",
    "order = ['Fully Paid','Charged Off']\n",
    "# loan_status_pct from above will be used in the below functions as well\n",
    "plt.figure(figsize=(20, 12))\n",
    "plt.subplot(2,2,1)\n",
    "sns.boxplot(x = 'loan_status', y = 'loan_amnt', data = loan)\n",
    "plt.show()"
   ]
  },
  {
   "cell_type": "code",
   "execution_count": null,
   "id": "0d8fc5e6-7e62-4070-893d-f2f1dfa6644b",
   "metadata": {},
   "outputs": [],
   "source": [
    "loan['loan_amnt'].describe()\n"
   ]
  },
  {
   "cell_type": "code",
   "execution_count": 1673,
   "id": "dcac7503-9add-400a-8678-80ef1aac3ddd",
   "metadata": {},
   "outputs": [],
   "source": [
    "#Generic Method for univariant analysis \n",
    "\n",
    "def CalculatePercentile (*, inpdata=loan, column,intrelated=''):\n",
    "    \"\"\"\n",
    "   This Method will returns the column name with \n",
    "           Method Params:\n",
    "            data:Dataframe\n",
    "            column:this is the continuous numeric field which has to be binned to its percentiles\n",
    "  \"\"\"\n",
    "    \n",
    "    new_column = column + '_perc'\n",
    "    Perc_labels = ['Low ','Lower ','Medium ','High ','Highest ']\n",
    "    Perc_labels = [Perc_labels[p] + '(' +\n",
    "              str(round(np.nanpercentile(inpdata[column], p * 20),2)) +\n",
    "              intrelated + ' - ' +\n",
    "              str(round(np.nanpercentile(inpdata[column], (p+1) * 20),2)) +\n",
    "              intrelated + ')'\n",
    "              for p in range(5)]\n",
    "    inpdata[new_column] = pd.qcut(inpdata[column], q=5, labels=Perc_labels)\n",
    "\n",
    "\n",
    "#Function for Univariate Categorical\n",
    "def GenericMethod_Univariant (*, data=loan, column, title=None, figsize=(10,7),  box_plot=False, datafilter=None):\n",
    "\n",
    "    plotdata = data if datafilter is None else data.loc[datafilter]\n",
    "\n",
    "    fig, ax = plt.subplots(figsize=figsize)\n",
    "    sns.countplot(data=plotdata, y=column, hue=by, ax=ax,palette=['#432371',\"#7fcdbb\"] ,\n",
    "                      order=plotdata[column].value_counts().index, hue_order=order)\n",
    "    if title is not None:\n",
    "        plt.title(title)\n",
    "        plt.show()\n",
    "        dataframe = loan.groupby([column])[by].value_counts(normalize=True).rename('Charged off %').reset_index().sort_values(column)\n",
    "        dataframe = dataframe.loc[dataframe[by]=='Charged Off'].sort_values(by='Charged off %', ascending=False).drop(columns=[by])\n",
    "        df2 = loan.groupby([column])[by].count()\n",
    "        dataframe = dataframe.merge(right=df2,on=column).rename(columns={by:'Record count'})\n",
    "        display(HTML(dataframe.to_html(index=False)))\n",
    "    if box_plot:\n",
    "        df2.plot(kind='box',logy=True,x=\"No. of records of defaulted loans per category\")\n",
    "        plt.show()    \n"
   ]
  },
  {
   "cell_type": "code",
   "execution_count": null,
   "id": "01ed5f35-81ce-411e-8843-f006ab1c51ab",
   "metadata": {},
   "outputs": [],
   "source": [
    "# Based on relationals we can now analyse highly coorelated items \n",
    "CalculatePercentile(column='loan_amnt')\n",
    "GenericMethod_Univariant(column='loan_amnt_perc',title=\"Analysis by Loan Amount\",box_plot=True)\n"
   ]
  },
  {
   "cell_type": "code",
   "execution_count": null,
   "id": "74e8005b-93ad-478c-965f-0c9dacc17f48",
   "metadata": {},
   "outputs": [],
   "source": [
    "\n",
    "CalculatePercentile(column='int_rate')\n",
    "GenericMethod_Univariant(column='int_rate_perc',title=\"Analysis by Interest\")"
   ]
  },
  {
   "cell_type": "code",
   "execution_count": null,
   "id": "e3489809-a701-4e52-97f4-f700bd7a3ce3",
   "metadata": {},
   "outputs": [],
   "source": [
    "CalculatePercentile(column='annual_inc')\n",
    "GenericMethod_Univariant(column='annual_inc_perc',title=\"Analysis by Annual Income\")"
   ]
  },
  {
   "cell_type": "code",
   "execution_count": null,
   "id": "7b727780-a9e5-4176-b0fc-b0cf6b0e8b2e",
   "metadata": {},
   "outputs": [],
   "source": [
    "GenericMethod_Univariant(column='term')"
   ]
  },
  {
   "cell_type": "code",
   "execution_count": null,
   "id": "a7a1e5f2-4a58-46d6-9477-b5ec0964e395",
   "metadata": {},
   "outputs": [],
   "source": [
    "Analysis Based on Loan Amount,Interest ,Annual Income,Term:\n",
    "* Higher the Loan Amount and interest rate higher the charged Off.\n",
    "* Lower Tenure  results in higher charged Off.\n",
    "* Lower Annual Income results in higher charged Off.\n"
   ]
  },
  {
   "cell_type": "code",
   "execution_count": null,
   "id": "8c288226-285f-4862-a2c5-d68a38805123",
   "metadata": {},
   "outputs": [],
   "source": [
    "GenericMethod_Univariant(column='purpose')\n",
    "GenericMethod_Univariant(column='verification_status')"
   ]
  },
  {
   "cell_type": "code",
   "execution_count": null,
   "id": "1843525f-f24e-44e7-b697-a5130cae64ea",
   "metadata": {},
   "outputs": [],
   "source": [
    "Major Impact Cases Based on Univariant Analysis\n",
    "1. Debt Consolidation \n",
    "2. Verification Status"
   ]
  },
  {
   "cell_type": "code",
   "execution_count": null,
   "id": "130f56b6-581c-4782-bb7a-61684fb7d7b1",
   "metadata": {},
   "outputs": [],
   "source": [
    "Univariate_Categorical(column='emp_length')\n"
   ]
  },
  {
   "cell_type": "code",
   "execution_count": null,
   "id": "0902d00f-8913-4302-9df2-fccdcd27fe9d",
   "metadata": {},
   "outputs": [],
   "source": [
    "Univariate_Categorical(column='home_ownership')"
   ]
  },
  {
   "cell_type": "code",
   "execution_count": null,
   "id": "79510564-564d-48d0-876b-97cc5b7e5bf1",
   "metadata": {},
   "outputs": [],
   "source": []
  },
  {
   "cell_type": "code",
   "execution_count": null,
   "id": "5fd15bda-f137-4300-af3a-f5edc9622ac9",
   "metadata": {},
   "outputs": [],
   "source": [
    "Univariate_Categorical(column='pub_rec_bankruptcies', box_plot=True)"
   ]
  },
  {
   "cell_type": "code",
   "execution_count": null,
   "id": "90430cbb-2508-40ed-a602-a7939eaa74bb",
   "metadata": {},
   "outputs": [],
   "source": [
    "PercentileCut(column='dti')\n",
    "Univariate_Categorical(column='dti_p')"
   ]
  },
  {
   "cell_type": "code",
   "execution_count": null,
   "id": "4ca2dc2c-b19a-4137-b995-40a3cbb92845",
   "metadata": {},
   "outputs": [],
   "source": [
    "#Bivariate Analysis\n",
    "\n",
    "def Bivariate_Analysis (*, data=loan, x, y, title=None, figsize=(8,6)):\n",
    "    \"\"\"\n",
    "        Parameters:\n",
    "            data : defaulted at the 'loan' variable, but can be changed externally if needed\n",
    "            x, y : columns of data in the corresponding axis, one numerical and one categorical\n",
    "            figsize : a default have is given, but can be overridden\n",
    "        Returns:\n",
    "            None, does a violin plot\n",
    "    \"\"\"\n",
    "    fig, ax = plt.subplots(figsize=figsize)\n",
    "    sns.violinplot(data=data, x=x, y=y, hue=by, split=True, figsize=figsize,\n",
    "                   ax=ax, hue_order=order)\n",
    "    if title is not None:\n",
    "        plt.title(title)\n",
    "    plt.show()\n",
    "\n",
    "def Bivariate_Categorical (*, data=loan, x, y, title=None, figsize=(8,6)):\n",
    "    \"\"\"\n",
    "        Parameters:\n",
    "            data : defaulted at the 'loan' variable, but can be changed externally if needed\n",
    "            x, y : columns of data in the corresponding axis, both categorical\n",
    "            figsize : a default have is given, but can be overridden\n",
    "        Returns:\n",
    "            None, does a heatmap plot\n",
    "    \"\"\"\n",
    "    fig, ax = plt.subplots(figsize=figsize)\n",
    "    pt = pd.pivot_table(data=data, values='loan_status_num', index=y, columns=x)\n",
    "    sns.heatmap(pt, ax=ax, cmap='YlGnBu')\n",
    "    if title is not None:\n",
    "        plt.title(title)\n",
    "    plt.show()\n",
    "\n",
    "\n"
   ]
  },
  {
   "cell_type": "code",
   "execution_count": null,
   "id": "f805ef41-f06f-4582-9f4a-ec6fd7b088bd",
   "metadata": {},
   "outputs": [],
   "source": [
    "Bivariate_Categorical(x='purpose', y='annual_inc_p', figsize=(10,4))"
   ]
  },
  {
   "cell_type": "code",
   "execution_count": null,
   "id": "e878d950-03a0-46fc-a31f-b7d11e9a036d",
   "metadata": {},
   "outputs": [],
   "source": [
    "\n",
    "Bivariate_Categorical(x='dti_p', y='annual_inc_p', figsize=(10,4))"
   ]
  },
  {
   "cell_type": "code",
   "execution_count": null,
   "id": "7b26cca5-175f-484c-a92b-aa0e49bb530c",
   "metadata": {},
   "outputs": [],
   "source": []
  }
 ],
 "metadata": {
  "kernelspec": {
   "display_name": "Python 3 (ipykernel)",
   "language": "python",
   "name": "python3"
  },
  "language_info": {
   "codemirror_mode": {
    "name": "ipython",
    "version": 3
   },
   "file_extension": ".py",
   "mimetype": "text/x-python",
   "name": "python",
   "nbconvert_exporter": "python",
   "pygments_lexer": "ipython3",
   "version": "3.12.4"
  }
 },
 "nbformat": 4,
 "nbformat_minor": 5
}
